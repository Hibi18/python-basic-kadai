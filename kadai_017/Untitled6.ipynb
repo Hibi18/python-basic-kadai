{
  "nbformat": 4,
  "nbformat_minor": 0,
  "metadata": {
    "colab": {
      "provenance": []
    },
    "kernelspec": {
      "name": "python3",
      "display_name": "Python 3"
    },
    "language_info": {
      "name": "python"
    }
  },
  "cells": [
    {
      "cell_type": "code",
      "execution_count": 9,
      "metadata": {
        "colab": {
          "base_uri": "https://localhost:8080/"
        },
        "id": "_YkqAnIxDtpv",
        "outputId": "672c1c6d-6639-4538-9307-7eca452b7b9f"
      },
      "outputs": [
        {
          "output_type": "stream",
          "name": "stdout",
          "text": [
            "侍太郎は大人です\n",
            "侍一郎は大人ではありません\n",
            "侍二郎は大人ではありません\n",
            "侍三郎は大人です\n",
            "侍四郎は大人です\n"
          ]
        }
      ],
      "source": [
        "class Human:\n",
        "  def __init__(self, name, age):\n",
        "      self.name = name\n",
        "      self.age = age\n",
        "\n",
        "  def check_adult(self):\n",
        "      if self.age >= 20:\n",
        "        return(f\"{self.name}は大人です\")\n",
        "\n",
        "      else:\n",
        "        return(f\"{self.name}は大人ではありません\")\n",
        "\n",
        "humans = [\n",
        "    Human(\"侍太郎\", 20),\n",
        "    Human(\"侍一郎\", 15),\n",
        "    Human(\"侍二郎\", 18),\n",
        "    Human(\"侍三郎\", 27),\n",
        "    Human(\"侍四郎\", 22)\n",
        "         ]\n",
        "\n",
        "for human in humans:\n",
        "    print(human.check_adult())"
      ]
    }
  ]
}