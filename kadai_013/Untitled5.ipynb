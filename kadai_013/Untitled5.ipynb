{
  "nbformat": 4,
  "nbformat_minor": 0,
  "metadata": {
    "colab": {
      "provenance": []
    },
    "kernelspec": {
      "name": "python3",
      "display_name": "Python 3"
    },
    "language_info": {
      "name": "python"
    }
  },
  "cells": [
    {
      "cell_type": "code",
      "execution_count": 7,
      "metadata": {
        "colab": {
          "base_uri": "https://localhost:8080/"
        },
        "id": "fsFMkAHciKqS",
        "outputId": "edcfa514-1322-4014-d087-cd98eb110aaf"
      },
      "outputs": [
        {
          "output_type": "stream",
          "name": "stdout",
          "text": [
            "消費税込みで1100.0円です\n"
          ]
        }
      ],
      "source": [
        "def calculate_total(product_price, tax):\n",
        "\n",
        "  tax_price = (tax / 100)*product_price\n",
        "  total = product_price + tax_price\n",
        "\n",
        "  return total\n",
        "\n",
        "total = calculate_total(1000, 10)\n",
        "\n",
        "print(f\"消費税込みで{total}円です\")"
      ]
    }
  ]
}