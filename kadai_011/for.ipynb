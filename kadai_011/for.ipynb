{
  "nbformat": 4,
  "nbformat_minor": 0,
  "metadata": {
    "colab": {
      "provenance": []
    },
    "kernelspec": {
      "name": "python3",
      "display_name": "Python 3"
    },
    "language_info": {
      "name": "python"
    }
  },
  "cells": [
    {
      "cell_type": "code",
      "source": [
        "#forを使った処理\n",
        "array = [\"水\",\"金\",\"地\",\"火\",\"木\",\"土\",\"天\",\"海\",\"冥\"]\n",
        "\n",
        "for i in array:\n",
        "  print(i)\n",
        "\n",
        "#whileを使った処理\n",
        "num = 0\n",
        "\n",
        "while num <= 8:\n",
        "  print(array[num])\n",
        "  num = num + 1"
      ],
      "metadata": {
        "colab": {
          "base_uri": "https://localhost:8080/"
        },
        "id": "imWMqb2blXSt",
        "outputId": "9c2ff23a-341e-44df-eed8-027d0041b54d"
      },
      "execution_count": 4,
      "outputs": [
        {
          "output_type": "stream",
          "name": "stdout",
          "text": [
            "水\n",
            "金\n",
            "地\n",
            "火\n",
            "木\n",
            "土\n",
            "天\n",
            "海\n",
            "冥\n",
            "水\n",
            "金\n",
            "地\n",
            "火\n",
            "木\n",
            "土\n",
            "天\n",
            "海\n",
            "冥\n"
          ]
        }
      ]
    }
  ]
}